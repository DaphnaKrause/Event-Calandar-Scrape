{
 "cells": [
  {
   "cell_type": "code",
   "execution_count": 202,
   "metadata": {},
   "outputs": [],
   "source": [
    "from urllib.request import urlopen\n",
    "from bs4 import BeautifulSoup\n",
    "#import time\n",
    "import csv\n",
    "import requests\n",
    "\n",
    "session = requests.Session()\n",
    "hdr = {'User-Agent':'Mozilla/5.0 (Macintosh; Intel Mac OS X 10_13_6) AppleWebKit/537.36 (KHTML, like Gecko) Chrome/72.0.3626.121 Safari/537.36',\n",
    "           'Accept':'text/html,application/xhtml+xml,application/xml;q=0.9,image/webp,*/*;q=0.8',\n",
    "           'Accept-Charset': 'ISO-8859-1,utf-8;q=0.7,*;q=0.3',\n",
    "           'Accept-Encoding': 'none',\n",
    "           'Accept-Language': 'en-US,en;q=0.8',\n",
    "           'Connection': 'keep-alive'}"
   ]
  },
  {
   "cell_type": "code",
   "execution_count": 203,
   "metadata": {},
   "outputs": [],
   "source": [
    "url = 'https://www.visitgainesville.com/events/list/?tribe_redirected=true'\n",
    "req = session.get(url, headers=hdr)\n",
    "bsObj = BeautifulSoup(req.text, \"html.parser\")"
   ]
  },
  {
   "cell_type": "code",
   "execution_count": 204,
   "metadata": {},
   "outputs": [],
   "source": [
    "# create empty list to hold calender content\n",
    "calenderList = []\n",
    "\n",
    "def get_event():\n",
    "    List = bsObj.find_all('div', {'class':'type-tribe_events'})\n",
    "    \n",
    "    for event in List:\n",
    "    \n",
    "        Event_Name = event.find('h2', {'class':'tribe-events-list-event-title'}).get_text().strip('\\r\\n\\t ')\n",
    "        Link = event.a['href']\n",
    "        Date_start = event.find('span', {'class':'tribe-event-date-start'}).get_text()\n",
    "        \n",
    "        try:\n",
    "            Date_end = event.find('span', {'class':'tribe-event-date-end'}).get_text()\n",
    "        except:\n",
    "            Date_end = \"none\"\n",
    "        try:        \n",
    "            Address = event.find('span', {'class':'tribe-street-address'}).get_text().strip('\\r\\n\\t ').replace('\\n','')\n",
    "        except:\n",
    "            Address = \"n.a.\"\n",
    "            \n",
    "        City = event.find('span', {'class':'tribe-locality'}).get_text().strip('\\r\\n\\t ').replace('\\n','')\n",
    "        \n",
    "        eventList = [Event_Name, Date_start, Date_end, Address, City, Link]\n",
    "        calenderList.append(eventList)\n",
    "   \n",
    "    #return event\n",
    "    #I took this out function cal to function(get_event()), because it was printing twice with the loop below... beacuse I started with range 1.\n",
    "#get_event()    \n",
    "\n",
    "    "
   ]
  },
  {
   "cell_type": "code",
   "execution_count": 205,
   "metadata": {},
   "outputs": [],
   "source": [
    "for count in range(1, 10):\n",
    "    url = ('https://www.visitgainesville.com/events/list/?tribe_event_display=list&tribe_paged=')\n",
    "    new_url = (url + str(count))\n",
    "    req = session.get(new_url, headers=hdr)\n",
    "    bsObj = BeautifulSoup(req.text, \"html.parser\")\n",
    "    get_event()    "
   ]
  },
  {
   "cell_type": "code",
   "execution_count": 206,
   "metadata": {},
   "outputs": [],
   "source": [
    "#WRITE SCRAPER INTO CSV FILE\n",
    "\n",
    "def write_csv(calenderList):\n",
    "    # open new file for writing - named it calender.csv \n",
    "    newfile = open('gainesville_Calender.csv', 'w', encoding='utf-8')\n",
    "\n",
    "    # make a Python CSV read? object -\n",
    "    c = csv.writer(newfile)\n",
    "    \n",
    "    # write the column headings row \n",
    "    c.writerow(['Event_Name', 'Date_start', 'Date_end', 'Address', 'City', 'Link'])\n",
    "    \n",
    "    # Write calenderList into CSV, you don't need a loop because it has already looped above!\n",
    "    for item in calenderList:\n",
    "        c.writerow(item)\n",
    "    # close the file - end of function \n",
    "    newfile.close()\n",
    "    \n",
    "    # function does not need a return - but the next line prevents an error in Jupyter, so keep it \n",
    "    return None\n",
    "\n",
    "# run the function - this should create a .csv file \n",
    "write_csv(calenderList)"
   ]
  },
  {
   "cell_type": "code",
   "execution_count": null,
   "metadata": {},
   "outputs": [],
   "source": []
  },
  {
   "cell_type": "code",
   "execution_count": null,
   "metadata": {},
   "outputs": [],
   "source": [
    "#https://gainesvilledowntown.com/downtown-calendar/\n",
    "#div class=\"greatwp-main-wrapper"
   ]
  }
 ],
 "metadata": {
  "kernelspec": {
   "display_name": "Python 3",
   "language": "python",
   "name": "python3"
  },
  "language_info": {
   "codemirror_mode": {
    "name": "ipython",
    "version": 3
   },
   "file_extension": ".py",
   "mimetype": "text/x-python",
   "name": "python",
   "nbconvert_exporter": "python",
   "pygments_lexer": "ipython3",
   "version": "3.7.2"
  }
 },
 "nbformat": 4,
 "nbformat_minor": 2
}
